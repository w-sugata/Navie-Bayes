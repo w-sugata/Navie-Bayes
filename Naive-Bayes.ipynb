{
  "cells": [
    {
      "cell_type": "markdown",
      "metadata": {
        "id": "view-in-github",
        "colab_type": "text"
      },
      "source": [
        "<a href=\"https://colab.research.google.com/github/w-sugata/Navie-Bayes/blob/main/Naive-Bayes.ipynb\" target=\"_parent\"><img src=\"https://colab.research.google.com/assets/colab-badge.svg\" alt=\"Open In Colab\"/></a>"
      ]
    },
    {
      "cell_type": "markdown",
      "source": [
        "Final Version"
      ],
      "metadata": {
        "id": "CWrBdP2QOhem"
      }
    },
    {
      "cell_type": "code",
      "execution_count": null,
      "metadata": {
        "id": "mhg68N2V2WEN"
      },
      "outputs": [],
      "source": [
        "!pip install datasets"
      ]
    },
    {
      "cell_type": "markdown",
      "source": [
        "# Datasets"
      ],
      "metadata": {
        "id": "SdkKMOO6MzVA"
      }
    },
    {
      "cell_type": "code",
      "execution_count": null,
      "metadata": {
        "colab": {
          "base_uri": "https://localhost:8080/",
          "height": 116,
          "referenced_widgets": [
            "bcd41c48960d413d921004c40503c482",
            "21dd9e29240942f9bf38eb36987c380d",
            "b366f531e756435f9d49a2a8823b4098",
            "85b485b09fcc4da789aacf00e12e9e69",
            "355a20523a604b7d8114d0fe01ad03ba",
            "36b4486ad1564952a089a37e9b79fe9c",
            "3159caccd1714034a8f44543f163fe94",
            "071871532c814af0a63c78ba94f1ecbf",
            "6ac26b38b41c45c993b13f24d243b9db",
            "498863a2398d47c394a8b9be83933c81",
            "f9c9417970a7492a87fc980ecc01ee17",
            "5b5224188e1846f38650b12736147629",
            "71c864507f7d4c4e9703608dd8e59d0d",
            "8f16369df0d84bcd9e0d8e3fd3b2765b",
            "76f2b18eebae4c0fb75f89df7a9368cf",
            "ea462d4b7c4d4d838fdd10d2cff230de",
            "b666b1ea869d4a2ba0534412ba4b816e",
            "bc33a67610ae4badbc9c46aafe533f6a",
            "b74f672d89af4aa69ad92704cedd070d",
            "48f2e0a617af4256911734f17278c907",
            "05babcca958443b2b7c0f992827b3aa2",
            "04df7a8a75c84806a3afbe8ad64d175b"
          ]
        },
        "id": "JOsuQgCruwfh",
        "outputId": "16e4b4f1-cd1d-4ff7-f871-aedcfa83cd33"
      },
      "outputs": [
        {
          "output_type": "stream",
          "name": "stderr",
          "text": [
            "Reusing dataset imdb (/root/.cache/huggingface/datasets/imdb/plain_text/1.0.0/2fdd8b9bcadd6e7055e742a706876ba43f19faee861df134affd7a3f60fc38a1)\n"
          ]
        },
        {
          "output_type": "display_data",
          "data": {
            "application/vnd.jupyter.widget-view+json": {
              "model_id": "bcd41c48960d413d921004c40503c482",
              "version_minor": 0,
              "version_major": 2
            },
            "text/plain": [
              "  0%|          | 0/3 [00:00<?, ?it/s]"
            ]
          },
          "metadata": {}
        },
        {
          "output_type": "stream",
          "name": "stderr",
          "text": [
            "Reusing dataset sms_spam (/root/.cache/huggingface/datasets/sms_spam/plain_text/1.0.0/53f051d3b5f62d99d61792c91acefe4f1577ad3e4c216fb0ad39e30b9f20019c)\n"
          ]
        },
        {
          "output_type": "display_data",
          "data": {
            "application/vnd.jupyter.widget-view+json": {
              "model_id": "5b5224188e1846f38650b12736147629",
              "version_minor": 0,
              "version_major": 2
            },
            "text/plain": [
              "  0%|          | 0/1 [00:00<?, ?it/s]"
            ]
          },
          "metadata": {}
        }
      ],
      "source": [
        "from datasets import load_dataset\n",
        "imdb_dataset = load_dataset('imdb')\n",
        "sms_dataset = load_dataset('sms_spam')"
      ]
    },
    {
      "cell_type": "code",
      "execution_count": null,
      "metadata": {
        "id": "y9_gE8oEzi7d"
      },
      "outputs": [],
      "source": [
        "from sklearn.model_selection import train_test_split\n",
        "import pandas as pd\n",
        "\n",
        "#split sms_spam into train and test dataset\n",
        "sms_df = pd.DataFrame(data = sms_dataset['train'])\n",
        "sms_train, sms_test = train_test_split(sms_df, test_size = 0.2)\n",
        "\n",
        "sms_train.rename(columns = {'sms':'text'}, inplace = True) # replace the title of the column 'sms' to match to imdb's dataset's column title 'text'\n",
        "sms_test.rename(columns = {'sms':'text'}, inplace = True) # replace the title of the column 'sms' to match to imdb's dataset's column title 'text'"
      ]
    },
    {
      "cell_type": "code",
      "execution_count": null,
      "metadata": {
        "id": "Zz7ixYVXqIHJ"
      },
      "outputs": [],
      "source": [
        "imdb_train = pd.DataFrame(imdb_dataset['train'])\n",
        "imdb_test = pd.DataFrame(imdb_dataset['test'])\n",
        "\n",
        "# shuffle the rows\n",
        "imdb_train = imdb_train.sample(frac = 1)\n",
        "imdb_test = imdb_test.sample(frac = 1)"
      ]
    },
    {
      "cell_type": "markdown",
      "source": [
        "# Clean Function"
      ],
      "metadata": {
        "id": "Of2_g5oUM7Or"
      }
    },
    {
      "cell_type": "code",
      "execution_count": null,
      "metadata": {
        "id": "guIbs0brO3Nx"
      },
      "outputs": [],
      "source": [
        "def clean(data):\n",
        "  data = data['text'].str.replace('\\W', ' ') # Removes punctuation\n",
        "  data = data.str.lower() # all lower cases\n",
        "  data = data.str.split() # split sentences into words\n",
        "\n",
        "  vocabulary = []\n",
        "  for words in data:\n",
        "    for each_word in words:\n",
        "      vocabulary.append(each_word)\n",
        "\n",
        "  vocabulary = list(set(vocabulary))\n",
        "  return vocabulary"
      ]
    },
    {
      "cell_type": "markdown",
      "source": [
        "# Feature Extraction"
      ],
      "metadata": {
        "id": "ALTZT-TdQy7o"
      }
    },
    {
      "cell_type": "markdown",
      "source": [
        "### 0. bag of words"
      ],
      "metadata": {
        "id": "wfaS_rvzLImO"
      }
    },
    {
      "cell_type": "code",
      "source": [
        "# The function takes cleaned data \n",
        "def bag_of_words(data):\n",
        "  # create a set containing all the tokens that are only letters\n",
        "  # the set will automatically filter out duplicates\n",
        "  words = {w.lower() for w in data if w.isalpha()}\n",
        "  # convert the set to a list before returning.\n",
        "  return list(words)"
      ],
      "metadata": {
        "id": "9ITMUnIGQ1PQ"
      },
      "execution_count": null,
      "outputs": []
    },
    {
      "cell_type": "markdown",
      "source": [
        "### 1. Stop Words\n",
        "removes stopwords"
      ],
      "metadata": {
        "id": "WhH7iwLQLMVP"
      }
    },
    {
      "cell_type": "code",
      "source": [
        "# takes cleaned data \n",
        "# filter out stopwords and duplicates\n",
        "import nltk\n",
        "# nltk.download('stopwords')\n",
        "# from nltk.corpus import stopwords\n",
        "from nltk.corpus import stopwords\n",
        "stoplist = set(stopwords.words(\"english\"))\n",
        "def no_stopwords(data):\n",
        "  # stop_words = set(stopwords.words('english'))\n",
        "  no_stop = {w for w in data if w.lower() not in stoplist}\n",
        "  return list(no_stop)"
      ],
      "metadata": {
        "id": "ebqkuaSzHa_h"
      },
      "execution_count": null,
      "outputs": []
    },
    {
      "cell_type": "markdown",
      "source": [
        "### 2. N-grams"
      ],
      "metadata": {
        "id": "GlCuHdlkLSKd"
      }
    },
    {
      "cell_type": "code",
      "source": [
        "# takes cleaned data and number of ngrams\n",
        "# returns list of strings (each is a ngram)\n",
        "\n",
        "def ngrams(text, n):\n",
        "\n",
        "    return [\n",
        "        \" \".join(text[i : i + n]) for i in range(len(text) - (n - 1))\n",
        "    ]  # list of str "
      ],
      "metadata": {
        "id": "5s97ZjdYg1wC"
      },
      "execution_count": null,
      "outputs": []
    },
    {
      "cell_type": "markdown",
      "source": [
        "### 3. Part of Speech"
      ],
      "metadata": {
        "id": "C09CvJVhLuaB"
      }
    },
    {
      "cell_type": "code",
      "source": [
        "# takes cleaned data\n",
        "# returns words that are either singular noun, proper noun, or verb (list of strings)\n",
        "import nltk\n",
        "nltk.download('averaged_perceptron_tagger')\n",
        "from nltk.tokenize import wordpunct_tokenize\n",
        "def part_of_speech(data):\n",
        "  tagged = nltk.pos_tag(data) \n",
        "  pos = {x[0] for x in tagged if x[1] == 'NN' or x[1] == 'NNP' or x[1] == 'VB'} \n",
        "  return list(pos)"
      ],
      "metadata": {
        "colab": {
          "base_uri": "https://localhost:8080/"
        },
        "id": "Ivj0GNywfuWk",
        "outputId": "5b158f17-0f38-4b5b-b791-254f987f2557"
      },
      "execution_count": null,
      "outputs": [
        {
          "output_type": "stream",
          "name": "stdout",
          "text": [
            "[nltk_data] Downloading package averaged_perceptron_tagger to\n",
            "[nltk_data]     /root/nltk_data...\n",
            "[nltk_data]   Package averaged_perceptron_tagger is already up-to-\n",
            "[nltk_data]       date!\n"
          ]
        }
      ]
    },
    {
      "cell_type": "markdown",
      "source": [
        "# Baseline Function"
      ],
      "metadata": {
        "id": "aCP1RCTHLe55"
      }
    },
    {
      "cell_type": "code",
      "source": [
        "def baseline(data):\n",
        "\n",
        "  good = data[data['label'] == 0]\n",
        "  bad = data[data['label'] == 1]\n",
        "  prior_good = len(good) / len(data)\n",
        "  prior_bad = len(bad) / len(data)\n",
        "\n",
        "  if prior_good > prior_bad:\n",
        "    return \"prediction: ham messages or negative reviews\"\n",
        "  else:\n",
        "    return \"prediction: spam messages or positive reviews\""
      ],
      "metadata": {
        "id": "eh5E7iQHLhGx"
      },
      "execution_count": null,
      "outputs": []
    },
    {
      "cell_type": "markdown",
      "source": [
        "# Learn Function"
      ],
      "metadata": {
        "id": "jYiolWOXNAih"
      }
    },
    {
      "cell_type": "code",
      "execution_count": null,
      "metadata": {
        "id": "mNJumgVpPnPv"
      },
      "outputs": [],
      "source": [
        "# takes train_data and cleaned data / featurized data\n",
        "def learn(train_data, clean): \n",
        "\n",
        "  train_data['text_val_col'] = train_data['text'].str.replace('\\W', ' ') # Removes punctuation\n",
        "  train_data['text_val_col'] = train_data['text_val_col'].str.lower()\n",
        "  train_data['text_val_col'] = train_data['text_val_col'].str.split() \n",
        "\n",
        "\n",
        "  word_counts_per_sentences = {unique_word: [0] * len(train_data['text_val_col']) for unique_word in clean} # columns - unique words in vocabulary, rows - each sentences\n",
        "  for index, value in enumerate(train_data['text_val_col']): \n",
        "   for word in value:\n",
        "     if word not in clean:\n",
        "       continue\n",
        "     else:\n",
        "      word_counts_per_sentences[word][index] += 1 # count how many times each word appeares in each sentence in dict\n",
        "  df = pd.DataFrame(word_counts_per_sentences) # convert the dict to a dataframe\n",
        "\n",
        "  df['text_val_col'] = list(train_data.iloc[:, 0])\n",
        "  df['label_val_col'] = list(train_data['label'])\n",
        "\n",
        "  neg = df[df['label_val_col'] == 0] # extract a dataframe where class value is ham/positive\n",
        "  pos = df[df['label_val_col'] == 1]\n",
        "  \n",
        "  ## Calculate prior probabilities \n",
        "  p_neg = len(neg) / len(df) # p of ham/positive \n",
        "  p_pos = len(pos) / len(df) # p of spam/negative\n",
        "\n",
        "  ## Calculate likelihood P(Wi|Cj) \n",
        "  n_words_per_neg = neg['text_val_col'].apply(len) # number of words per ham/positive \n",
        "  n_neg = n_words_per_neg.sum() # total number of words in ham/positive texts\n",
        "\n",
        "  n_words_per_pos = pos['text_val_col'].apply(len) # number of words per spam/negative\n",
        "  n_pos = n_words_per_pos.sum() # total number of words in spam/negative texts\n",
        "\n",
        "  n_vocabulary = len(clean) # number of vocabulary\n",
        "\n",
        "  alpha = 1 # laplace smoothing\n",
        "\n",
        "  likelihood_neg = {unique_word:0 for unique_word in clean}\n",
        "  likelihood_pos = {unique_word:0 for unique_word in clean}\n",
        "\n",
        "  # likelihood = {}\n",
        "\n",
        "  for word in clean:\n",
        "    if word == 'text_val_col' or word == 'label_val_col':\n",
        "      continue\n",
        "    n_word_given_neg = neg[word].sum() # number of occurences of a word W in good texts\n",
        "    p_word_given_neg = (n_word_given_neg + alpha) / (n_neg + alpha * n_vocabulary) \n",
        "    likelihood_neg[word] = p_word_given_neg\n",
        "\n",
        "    n_word_given_pos = pos[word].sum() # number of occurences of a word W in bad texts\n",
        "    p_word_given_pos = (n_word_given_pos + alpha) / (n_pos + alpha * n_vocabulary)\n",
        "    likelihood_pos[word] = p_word_given_pos\n",
        "\n",
        "  return p_pos, p_neg, likelihood_pos, likelihood_neg\n",
        "\n",
        "# Souce code: https://www.kdnuggets.com/2020/07/spam-filter-python-naive-bayes-scratch.html"
      ]
    },
    {
      "cell_type": "markdown",
      "source": [
        "# Classify Function"
      ],
      "metadata": {
        "id": "WbkJ1e5wNHbq"
      }
    },
    {
      "cell_type": "code",
      "execution_count": null,
      "metadata": {
        "id": "HCPnb__HU_OF"
      },
      "outputs": [],
      "source": [
        "def classify(doc):\n",
        "\n",
        "  doc = doc.replace('\\W', ' ') # Removes punctuation\n",
        "  doc = doc.lower()\n",
        "  doc = doc.split()\n",
        "\n",
        "  p_neg_given_message = p_neg\n",
        "  p_pos_given_message = p_pos\n",
        "\n",
        "  prediction = []\n",
        "  for word in doc:\n",
        "    if word in likelihood_neg:\n",
        "      p_neg_given_message *= likelihood_neg[word]\n",
        "\n",
        "    if word in likelihood_pos:\n",
        "      p_pos_given_message *= likelihood_pos[word]\n",
        "\n",
        "  if p_neg_given_message > p_pos_given_message:\n",
        "    return 0\n",
        "  else:\n",
        "    return 1"
      ]
    },
    {
      "cell_type": "markdown",
      "source": [
        "# Evaluation"
      ],
      "metadata": {
        "id": "m-qECYP-sWf9"
      }
    },
    {
      "cell_type": "code",
      "source": [
        "import datasets\n",
        "accuracy = datasets.load_metric(\"accuracy\")\n",
        "precision = datasets.load_metric(\"precision\")\n",
        "recall = datasets.load_metric(\"recall\")"
      ],
      "metadata": {
        "id": "zB09X-g0saaA"
      },
      "execution_count": null,
      "outputs": []
    },
    {
      "cell_type": "markdown",
      "source": [
        "# Run the codes using sms_spam dataset"
      ],
      "metadata": {
        "id": "T_kN5NgMNL4T"
      }
    },
    {
      "cell_type": "code",
      "source": [
        "baseline(sms_test)"
      ],
      "metadata": {
        "colab": {
          "base_uri": "https://localhost:8080/",
          "height": 35
        },
        "id": "SlbVDiX_NOS9",
        "outputId": "79feb11f-8645-40ca-a758-4c25473a5fc5"
      },
      "execution_count": null,
      "outputs": [
        {
          "output_type": "execute_result",
          "data": {
            "application/vnd.google.colaboratory.intrinsic+json": {
              "type": "string"
            },
            "text/plain": [
              "'prediction: ham messages or positive reviews'"
            ]
          },
          "metadata": {},
          "execution_count": 31
        }
      ]
    },
    {
      "cell_type": "code",
      "source": [
        "sms_clean = clean(sms_train)"
      ],
      "metadata": {
        "id": "eST930DrNSRr"
      },
      "execution_count": null,
      "outputs": []
    },
    {
      "cell_type": "code",
      "source": [
        "sms_ref = sms_test['label'].to_list()"
      ],
      "metadata": {
        "id": "4SZLwq9gtXdL"
      },
      "execution_count": null,
      "outputs": []
    },
    {
      "cell_type": "markdown",
      "source": [
        "### Without feature extractions - sms_spam"
      ],
      "metadata": {
        "id": "PuNLQJ-tm64m"
      }
    },
    {
      "cell_type": "code",
      "source": [
        "p_pos, p_neg, likelihood_pos, likelihood_neg = learn(sms_train, sms_clean)\n",
        "sms_test['prediction'] = sms_test['text'].apply(classify)\n",
        "sms_test.head(50)\n",
        "sms_pred = sms_test['prediction'].to_list()"
      ],
      "metadata": {
        "id": "fE4IO8erNgN3"
      },
      "execution_count": null,
      "outputs": []
    },
    {
      "cell_type": "code",
      "source": [
        "acc = accuracy.compute(predictions=sms_pred, references=sms_ref)\n",
        "pre = precision.compute(predictions=sms_pred, references=sms_ref)\n",
        "rec = recall.compute(predictions=sms_pred, references=sms_ref)\n",
        "print(acc)\n",
        "print(pre)\n",
        "print(rec)"
      ],
      "metadata": {
        "colab": {
          "base_uri": "https://localhost:8080/"
        },
        "id": "CDjepSQUtE_N",
        "outputId": "dc0ccef2-85de-4c32-d3fa-6d3a64b6a11d"
      },
      "execution_count": null,
      "outputs": [
        {
          "output_type": "stream",
          "name": "stdout",
          "text": [
            "{'accuracy': 0.9802690582959641}\n",
            "{'precision': 0.9308176100628931}\n",
            "{'recall': 0.9308176100628931}\n"
          ]
        }
      ]
    },
    {
      "cell_type": "markdown",
      "source": [
        "### Bag of words - sms_spam"
      ],
      "metadata": {
        "id": "qrEzqDoUgy_S"
      }
    },
    {
      "cell_type": "code",
      "source": [
        "sms_bag = bag_of_words(sms_clean)\n",
        "p_pos, p_neg, likelihood_pos, likelihood_neg = learn(sms_train, sms_bag)\n",
        "sms_test['prediction'] = sms_test['text'].apply(classify)\n",
        "sms_bow_pred = sms_test['prediction'].to_list()"
      ],
      "metadata": {
        "id": "VdskVwaxg6gz"
      },
      "execution_count": null,
      "outputs": []
    },
    {
      "cell_type": "code",
      "source": [
        "acc = accuracy.compute(predictions=sms_bow_pred, references=sms_ref)\n",
        "pre = precision.compute(predictions=sms_bow_pred, references=sms_ref)\n",
        "rec = recall.compute(predictions=sms_bow_pred, references=sms_ref)\n",
        "print(acc)\n",
        "print(pre)\n",
        "print(rec)"
      ],
      "metadata": {
        "colab": {
          "base_uri": "https://localhost:8080/"
        },
        "id": "MQDTr2isuXf6",
        "outputId": "75f5a27f-f4d0-4c01-db62-cb1ea233eba3"
      },
      "execution_count": null,
      "outputs": [
        {
          "output_type": "stream",
          "name": "stdout",
          "text": [
            "{'accuracy': 0.9802690582959641}\n",
            "{'precision': 0.9363057324840764}\n",
            "{'recall': 0.9245283018867925}\n"
          ]
        }
      ]
    },
    {
      "cell_type": "markdown",
      "source": [
        "### No Stop Words - sms_spam"
      ],
      "metadata": {
        "id": "00R85riNh6t3"
      }
    },
    {
      "cell_type": "code",
      "source": [
        "sms_stop = no_stopwords(sms_clean)\n",
        "p_pos, p_neg, likelihood_pos, likelihood_neg = learn(sms_train, sms_stop)\n",
        "sms_test['prediction'] = sms_test['text'].apply(classify)\n",
        "sms_stop_pred = sms_test['prediction'].to_list()"
      ],
      "metadata": {
        "id": "Phz1yfJnh6NC"
      },
      "execution_count": null,
      "outputs": []
    },
    {
      "cell_type": "code",
      "source": [
        "acc = accuracy.compute(predictions=sms_stop_pred, references=sms_ref)\n",
        "pre = precision.compute(predictions=sms_stop_pred, references=sms_ref)\n",
        "rec = recall.compute(predictions=sms_stop_pred, references=sms_ref)\n",
        "print(acc)\n",
        "print(pre)\n",
        "print(rec)"
      ],
      "metadata": {
        "colab": {
          "base_uri": "https://localhost:8080/"
        },
        "id": "GDPsGFWIuiBW",
        "outputId": "741a5688-7b95-48c9-bef0-24d97d6b7499"
      },
      "execution_count": null,
      "outputs": [
        {
          "output_type": "stream",
          "name": "stdout",
          "text": [
            "{'accuracy': 0.9524663677130045}\n",
            "{'precision': 0.7704081632653061}\n",
            "{'recall': 0.949685534591195}\n"
          ]
        }
      ]
    },
    {
      "cell_type": "markdown",
      "source": [
        "### Part of Speech (NN, NNP, VB) - sms_spam"
      ],
      "metadata": {
        "id": "ayuyhOjjiRrG"
      }
    },
    {
      "cell_type": "code",
      "source": [
        "sms_pos = part_of_speech(sms_clean)\n",
        "p_pos, p_neg, likelihood_pos, likelihood_neg = learn(sms_train, sms_pos)\n",
        "sms_test['prediction'] = sms_test['text'].apply(classify)\n",
        "sms_pos_pred = sms_test['prediction'].to_list()"
      ],
      "metadata": {
        "id": "7vYQIeabiWL3"
      },
      "execution_count": null,
      "outputs": []
    },
    {
      "cell_type": "code",
      "source": [
        "acc = accuracy.compute(predictions=sms_pos_pred, references=sms_ref)\n",
        "pre = precision.compute(predictions=sms_pos_pred, references=sms_ref)\n",
        "rec = recall.compute(predictions=sms_pos_pred, references=sms_ref)\n",
        "print(acc)\n",
        "print(pre)\n",
        "print(rec)"
      ],
      "metadata": {
        "colab": {
          "base_uri": "https://localhost:8080/"
        },
        "id": "F0bUpqA4uo3l",
        "outputId": "48c2dc4d-9cf1-409f-fda2-ea659a5d97b4"
      },
      "execution_count": null,
      "outputs": [
        {
          "output_type": "stream",
          "name": "stdout",
          "text": [
            "{'accuracy': 0.9506726457399103}\n",
            "{'precision': 0.8023255813953488}\n",
            "{'recall': 0.8679245283018868}\n"
          ]
        }
      ]
    },
    {
      "cell_type": "markdown",
      "source": [
        "### N-grams - sms_spam"
      ],
      "metadata": {
        "id": "jF7d8ShxiUl1"
      }
    },
    {
      "cell_type": "code",
      "source": [
        "sms_bigram = ngrams(sms_clean, 2)\n",
        "p_pos, p_neg, likelihood_pos, likelihood_neg = learn(sms_train, sms_bigram)\n",
        "sms_test['prediction'] = sms_test['text'].apply(classify)\n",
        "sms_bi_pred = sms_test['prediction'].to_list()"
      ],
      "metadata": {
        "id": "8W2wSgLeV95a"
      },
      "execution_count": null,
      "outputs": []
    },
    {
      "cell_type": "code",
      "source": [
        "acc = accuracy.compute(predictions=sms_bi_pred, references=sms_ref)\n",
        "pre = precision.compute(predictions=sms_bi_pred, references=sms_ref)\n",
        "rec = recall.compute(predictions=sms_bi_pred, references=sms_ref)\n",
        "print(acc)\n",
        "print(pre)\n",
        "print(rec)"
      ],
      "metadata": {
        "colab": {
          "base_uri": "https://localhost:8080/"
        },
        "id": "u6qb4YsIuxSs",
        "outputId": "c4b02eed-f554-44e8-ef5f-5fb4d992b998"
      },
      "execution_count": null,
      "outputs": [
        {
          "output_type": "stream",
          "name": "stdout",
          "text": [
            "{'accuracy': 0.8573991031390135}\n",
            "{'precision': 0.0}\n",
            "{'recall': 0.0}\n"
          ]
        },
        {
          "output_type": "stream",
          "name": "stderr",
          "text": [
            "/usr/local/lib/python3.7/dist-packages/sklearn/metrics/_classification.py:1318: UndefinedMetricWarning: Precision is ill-defined and being set to 0.0 due to no predicted samples. Use `zero_division` parameter to control this behavior.\n",
            "  _warn_prf(average, modifier, msg_start, len(result))\n"
          ]
        }
      ]
    },
    {
      "cell_type": "code",
      "source": [
        "sms_trigram = ngrams(sms_clean, 2)\n",
        "p_pos, p_neg, likelihood_pos, likelihood_neg = learn(sms_train, sms_trigram)\n",
        "sms_test['prediction'] = sms_test['text'].apply(classify)\n",
        "sms_tri_pred = sms_test['prediction'].to_list()"
      ],
      "metadata": {
        "id": "sZ9PFaYeL-Dj"
      },
      "execution_count": null,
      "outputs": []
    },
    {
      "cell_type": "code",
      "source": [
        "acc = accuracy.compute(predictions=sms_tri_pred, references=sms_ref)\n",
        "pre = precision.compute(predictions=sms_tri_pred, references=sms_ref)\n",
        "rec = recall.compute(predictions=sms_tri_pred, references=sms_ref)\n",
        "print(acc)\n",
        "print(pre)\n",
        "print(rec)"
      ],
      "metadata": {
        "colab": {
          "base_uri": "https://localhost:8080/"
        },
        "id": "uD5ubyFnu2Ra",
        "outputId": "9e72dc79-057f-493a-8981-08f591d40fb2"
      },
      "execution_count": null,
      "outputs": [
        {
          "output_type": "stream",
          "name": "stdout",
          "text": [
            "{'accuracy': 0.8573991031390135}\n",
            "{'precision': 0.0}\n",
            "{'recall': 0.0}\n"
          ]
        },
        {
          "output_type": "stream",
          "name": "stderr",
          "text": [
            "/usr/local/lib/python3.7/dist-packages/sklearn/metrics/_classification.py:1318: UndefinedMetricWarning: Precision is ill-defined and being set to 0.0 due to no predicted samples. Use `zero_division` parameter to control this behavior.\n",
            "  _warn_prf(average, modifier, msg_start, len(result))\n"
          ]
        }
      ]
    },
    {
      "cell_type": "markdown",
      "source": [
        "### Comparison \n",
        "\n",
        "**Accuracy**:\n",
        "\n",
        "Both no feature extraction and bag of words had the highest number of accuracy: 98%. No-stop words and part-of-speech methods also had the high percentage of accuracy. Both bigram and trigram had lower percentage of accuracy as compared to other methods, so N-grams might not be the right feature extraction for naive bayes classification in spam detection.\n",
        "\n",
        "\n",
        "**Precision**: \n",
        "\n",
        "Precision is a good measure to use when the cost of false positive is high. In email spam detection, a false positive means that an email that is ham (not spam) has been classified as spam. Thus, if there are a lot of false positives (meaning the percentage of precision is not high), the user of the email might lose important (ham) emails in spam. So it is important to have high precision in a spam detection model. In terms of precision, bag-of-words had the highest precision, slightly higher than the one without feature extraction. Part-of-speech and no-stop-words also had precisions (80% and 77%). On the other hands, bigram and trigram did not do well, had 0% precisions. \n",
        "\n",
        "\n",
        "**Recall**: \n",
        "\n",
        "If the percentage of recall is low, there are more false negative. In spam detection, a false negative means some spam emails were not classified as not spam. No-stop-words had the highest recall, which means it was best at classifying spam emails as spam. No-feature-extraction, Part-of-speech and bag-of-words also had high recall. In contrast, N-grams did not do well (again) at classifying spam emails and had 0% recalls. \n",
        "\n",
        "\n",
        "**Conclusion**: \n",
        "\n",
        "In spam detection, the cost of false positive (classifying ham emails as spam) is higher than the cost of false negative (classifying spam emails as ham). Since bag-of-words had the highest precision percentage, bag-of-words model is the best method out of all the methods I tried for the spam detection. \n",
        "N-grams did worst overall and it is not an ideal method for spam detection. "
      ],
      "metadata": {
        "id": "eqVl6IPGJoi1"
      }
    },
    {
      "cell_type": "markdown",
      "source": [
        "# Run the codes using imdb dataset"
      ],
      "metadata": {
        "id": "p7n2SLv-OGgo"
      }
    },
    {
      "cell_type": "code",
      "source": [
        "baseline(imdb_test[:1000])"
      ],
      "metadata": {
        "colab": {
          "base_uri": "https://localhost:8080/",
          "height": 35
        },
        "id": "79I4LuuINUiZ",
        "outputId": "6da59fc1-9909-4eb6-e76f-cc4ef5c09470"
      },
      "execution_count": null,
      "outputs": [
        {
          "output_type": "execute_result",
          "data": {
            "application/vnd.google.colaboratory.intrinsic+json": {
              "type": "string"
            },
            "text/plain": [
              "'prediction: ham messages or positive reviews'"
            ]
          },
          "metadata": {},
          "execution_count": 56
        }
      ]
    },
    {
      "cell_type": "code",
      "source": [
        "imdb_clean = clean(imdb_train[:1000])"
      ],
      "metadata": {
        "id": "P4WTNd75OKRR"
      },
      "execution_count": null,
      "outputs": []
    },
    {
      "cell_type": "code",
      "source": [
        "imdb_ref = imdb_test['label'][:1000].to_list()"
      ],
      "metadata": {
        "id": "BKI4gfoiwCkW"
      },
      "execution_count": null,
      "outputs": []
    },
    {
      "cell_type": "markdown",
      "source": [
        "### Without feature extractions - imdb"
      ],
      "metadata": {
        "id": "flFObLfKmXEW"
      }
    },
    {
      "cell_type": "code",
      "source": [
        "p_pos, p_neg, likelihood_pos, likelihood_neg = learn(imdb_train[:1000], imdb_clean)\n",
        "imdb_test['prediction'] = imdb_test['text'][:1000].apply(classify)\n",
        "imdb_pred = imdb_test['prediction'][:1000].to_list()"
      ],
      "metadata": {
        "id": "TDyktoJgOOsU"
      },
      "execution_count": null,
      "outputs": []
    },
    {
      "cell_type": "code",
      "source": [
        "imdb_pred = [int(i) for i in imdb_pred]\n",
        "acc = accuracy.compute(predictions=imdb_pred, references=imdb_ref)\n",
        "pre = precision.compute(predictions=imdb_pred, references=imdb_ref)\n",
        "rec = recall.compute(predictions=imdb_pred, references=imdb_ref)\n",
        "print(acc)\n",
        "print(pre)\n",
        "print(rec)"
      ],
      "metadata": {
        "colab": {
          "base_uri": "https://localhost:8080/"
        },
        "id": "CD9YnLLfwLT4",
        "outputId": "2d00387d-31f6-4afb-b894-5890c25036be"
      },
      "execution_count": null,
      "outputs": [
        {
          "output_type": "stream",
          "name": "stdout",
          "text": [
            "{'accuracy': 0.565}\n",
            "{'precision': 0.5424107142857143}\n",
            "{'recall': 0.9510763209393346}\n"
          ]
        }
      ]
    },
    {
      "cell_type": "markdown",
      "source": [
        "### Bag of words - imdb\n"
      ],
      "metadata": {
        "id": "_isedun7maUT"
      }
    },
    {
      "cell_type": "code",
      "source": [
        "imdb_bag = bag_of_words(imdb_clean)\n",
        "p_pos, p_neg, likelihood_pos, likelihood_neg = learn(imdb_train[:1000], imdb_bag)\n",
        "imdb_test['prediction'] = imdb_test['text'][:1000].apply(classify)\n",
        "imdb_bow_pred = imdb_test['prediction'][:1000].to_list()"
      ],
      "metadata": {
        "id": "T5kzd9JWnE7E"
      },
      "execution_count": null,
      "outputs": []
    },
    {
      "cell_type": "code",
      "source": [
        "imdb_bow_pred = [int(i) for i in imdb_bow_pred]\n",
        "acc = accuracy.compute(predictions=imdb_bow_pred, references=imdb_ref)\n",
        "pre = precision.compute(predictions=imdb_bow_pred, references=imdb_ref)\n",
        "rec = recall.compute(predictions=imdb_bow_pred, references=imdb_ref)\n",
        "print(acc)\n",
        "print(pre)\n",
        "print(rec)"
      ],
      "metadata": {
        "colab": {
          "base_uri": "https://localhost:8080/"
        },
        "id": "RxRJtZ9A_wsu",
        "outputId": "ee92d1aa-3513-41b9-fed5-db9f44841be6"
      },
      "execution_count": null,
      "outputs": [
        {
          "output_type": "stream",
          "name": "stdout",
          "text": [
            "{'accuracy': 0.564}\n",
            "{'precision': 0.5418994413407822}\n",
            "{'recall': 0.949119373776908}\n"
          ]
        }
      ]
    },
    {
      "cell_type": "markdown",
      "source": [
        "### No Stop Words - imdb"
      ],
      "metadata": {
        "id": "TyhNXBGSmfFu"
      }
    },
    {
      "cell_type": "code",
      "source": [
        "imdb_stop = no_stopwords(imdb_clean)\n",
        "p_pos, p_neg, likelihood_pos, likelihood_neg = learn(imdb_train[:1000], imdb_stop)\n",
        "imdb_test['prediction'] = imdb_test['text'][:1000].apply(classify)\n",
        "imdb_stop_pred = imdb_test['prediction'][:1000].to_list()"
      ],
      "metadata": {
        "id": "uJuUn9SCnZ1T"
      },
      "execution_count": null,
      "outputs": []
    },
    {
      "cell_type": "code",
      "source": [
        "imdb_stop_pred = [int(i) for i in imdb_stop_pred]\n",
        "acc = accuracy.compute(predictions=imdb_stop_pred, references=imdb_ref)\n",
        "pre = precision.compute(predictions=imdb_stop_pred, references=imdb_ref)\n",
        "rec = recall.compute(predictions=imdb_stop_pred, references=imdb_ref)\n",
        "print(acc)\n",
        "print(pre)\n",
        "print(rec)"
      ],
      "metadata": {
        "colab": {
          "base_uri": "https://localhost:8080/"
        },
        "id": "FkF6XtK5_95w",
        "outputId": "91383cbe-9bf3-494f-b727-30dec14466a8"
      },
      "execution_count": null,
      "outputs": [
        {
          "output_type": "stream",
          "name": "stdout",
          "text": [
            "{'accuracy': 0.675}\n",
            "{'precision': 0.6375739644970414}\n",
            "{'recall': 0.8434442270058709}\n"
          ]
        }
      ]
    },
    {
      "cell_type": "markdown",
      "source": [
        "### Part of Speech (NN, NNP, VB) - imdb"
      ],
      "metadata": {
        "id": "Z7D0Hwe6mhLC"
      }
    },
    {
      "cell_type": "code",
      "source": [
        "imdb_pos = part_of_speech(imdb_clean)\n",
        "p_pos, p_neg, likelihood_pos, likelihood_neg = learn(imdb_train[:1000], imdb_pos)\n",
        "imdb_test['prediction'] = imdb_test['text'][:1000].apply(classify)\n",
        "imdb_pos_pred = imdb_test['prediction'][:1000].to_list()"
      ],
      "metadata": {
        "id": "4mTJRhtWni39"
      },
      "execution_count": null,
      "outputs": []
    },
    {
      "cell_type": "code",
      "source": [
        "imdb_pos_pred = [int(i) for i in imdb_pos_pred]\n",
        "acc = accuracy.compute(predictions=imdb_pos_pred, references=imdb_ref)\n",
        "pre = precision.compute(predictions=imdb_pos_pred, references=imdb_ref)\n",
        "rec = recall.compute(predictions=imdb_pos_pred, references=imdb_ref)\n",
        "print(acc)\n",
        "print(pre)\n",
        "print(rec)"
      ],
      "metadata": {
        "colab": {
          "base_uri": "https://localhost:8080/"
        },
        "id": "F5e8GvrCAHbr",
        "outputId": "12f2b244-09f9-4582-f8b9-b12ff06eaa04"
      },
      "execution_count": null,
      "outputs": [
        {
          "output_type": "stream",
          "name": "stdout",
          "text": [
            "{'accuracy': 0.667}\n",
            "{'precision': 0.6854166666666667}\n",
            "{'recall': 0.6438356164383562}\n"
          ]
        }
      ]
    },
    {
      "cell_type": "markdown",
      "source": [
        "### N-grams - imdb"
      ],
      "metadata": {
        "id": "tjm_dg8om1uK"
      }
    },
    {
      "cell_type": "code",
      "source": [
        "imdb_bigram = ngrams(imdb_clean, 2)\n",
        "p_pos, p_neg, likelihood_pos, likelihood_neg = learn(imdb_train[:1000], imdb_bigram)\n",
        "imdb_test['prediction'] = imdb_test['text'][:1000].apply(classify)\n",
        "imdb_bi_pred = imdb_test['prediction'][:1000].to_list()"
      ],
      "metadata": {
        "id": "OMlaGqf95I9n"
      },
      "execution_count": null,
      "outputs": []
    },
    {
      "cell_type": "code",
      "source": [
        "imdb_bi_pred = [int(i) for i in imdb_bi_pred]\n",
        "acc = accuracy.compute(predictions=imdb_bi_pred, references=imdb_ref)\n",
        "pre = precision.compute(predictions=imdb_bi_pred, references=imdb_ref)\n",
        "rec = recall.compute(predictions=imdb_bi_pred, references=imdb_ref)\n",
        "print(acc)\n",
        "print(pre)\n",
        "print(rec)"
      ],
      "metadata": {
        "colab": {
          "base_uri": "https://localhost:8080/"
        },
        "id": "sho6BqCkAMqV",
        "outputId": "be0acc3f-58ef-4fad-9525-97fc63f415f8"
      },
      "execution_count": null,
      "outputs": [
        {
          "output_type": "stream",
          "name": "stdout",
          "text": [
            "{'accuracy': 0.489}\n",
            "{'precision': 0.0}\n",
            "{'recall': 0.0}\n"
          ]
        },
        {
          "output_type": "stream",
          "name": "stderr",
          "text": [
            "/usr/local/lib/python3.7/dist-packages/sklearn/metrics/_classification.py:1318: UndefinedMetricWarning: Precision is ill-defined and being set to 0.0 due to no predicted samples. Use `zero_division` parameter to control this behavior.\n",
            "  _warn_prf(average, modifier, msg_start, len(result))\n"
          ]
        }
      ]
    },
    {
      "cell_type": "code",
      "source": [
        "imdb_trigram = ngrams(imdb_clean, 3)\n",
        "p_pos, p_neg, likelihood_pos, likelihood_neg = learn(imdb_train[:1000], imdb_trigram)\n",
        "imdb_test['prediction'] = imdb_test['text'][:1000].apply(classify)\n",
        "imdb_tri_pred = imdb_test['prediction'][:1000].to_list()"
      ],
      "metadata": {
        "id": "BvKzOTekR6vn"
      },
      "execution_count": null,
      "outputs": []
    },
    {
      "cell_type": "code",
      "source": [
        "imdb_tri_pred = [int(i) for i in imdb_tri_pred]\n",
        "acc = accuracy.compute(predictions=imdb_tri_pred, references=imdb_ref)\n",
        "pre = precision.compute(predictions=imdb_tri_pred, references=imdb_ref)\n",
        "rec = recall.compute(predictions=imdb_tri_pred, references=imdb_ref)\n",
        "print(acc)\n",
        "print(pre)\n",
        "print(rec)"
      ],
      "metadata": {
        "colab": {
          "base_uri": "https://localhost:8080/"
        },
        "id": "6VtmfLmyAgsk",
        "outputId": "040a4b92-9a74-4f63-a132-8e4da82f960e"
      },
      "execution_count": null,
      "outputs": [
        {
          "output_type": "stream",
          "name": "stdout",
          "text": [
            "{'accuracy': 0.489}\n",
            "{'precision': 0.0}\n",
            "{'recall': 0.0}\n"
          ]
        },
        {
          "output_type": "stream",
          "name": "stderr",
          "text": [
            "/usr/local/lib/python3.7/dist-packages/sklearn/metrics/_classification.py:1318: UndefinedMetricWarning: Precision is ill-defined and being set to 0.0 due to no predicted samples. Use `zero_division` parameter to control this behavior.\n",
            "  _warn_prf(average, modifier, msg_start, len(result))\n"
          ]
        }
      ]
    },
    {
      "cell_type": "markdown",
      "source": [
        "### Comparison\n",
        "\n",
        "**Accuracy**:\n",
        "\n",
        "No-stop-words and part-of-speech had high accuracy rate. Bag-of-words and no-feature-extraction had lower accuracy than the previous two that I mentioned. Both bigram and trigram had lower percentage of accuracy as compared to other methods, so N-grams might not be the right feature extraction for naive bayes classification in sentiment analysis.\n",
        "\n",
        "\n",
        "**Precision**: \n",
        "\n",
        "Precision is a good measure to use when the cost of false positive is high. In movie review sentiment analysis, a false positive means that negative reviews has been classified as positive review. Part-of-speech and No-stop-words have the highest precisions out of all and bag-of-words and no-feature-extractions have slightly lower precisions than them. On the other hands, bigram and trigram did not do well, and had 0% precisions. \n",
        "\n",
        "\n",
        "**Recall**: \n",
        "\n",
        "If the recall rate is low, there are more false negative. In movie review sentiment analysis, a false negative means some positive reviews were not classified as negative. No-feature-extraction and bag-of-words did the best in terms of recall. No-stop-words and part-of-speech have lower recalls than the other two but still high recalls. In contrast, N-grams did not do well (again) at classifying movie reviews and had 0% recalls. \n",
        "\n",
        "\n",
        "**Conclusion**: \n",
        "\n",
        "In movie review sentiment analysis, it is desired to have high balance between precision and recall. So, I will use f1-score to determine which model did best at classifying movie reviews. "
      ],
      "metadata": {
        "id": "zZEnqgq_qafh"
      }
    },
    {
      "cell_type": "code",
      "source": [
        "# F1-score\n",
        "# Without feature extraction\n",
        "no_feature_f1 = (2*0.5424107142857143*0.9510763209393346) / (0.5424107142857143 + 0.9510763209393346)\n",
        "bow_f1 = (2*0.5418994413407822*0.949119373776908) / (0.5418994413407822 + 0.949119373776908)\n",
        "stop_f1 = (2*0.6375739644970414*0.8434442270058709) / (0.6375739644970414 + 0.8434442270058709)\n",
        "pos_f1 = (2*0.6854166666666667*0.6438356164383562) / (0.6854166666666667 + 0.6438356164383562)\n",
        "print(f'f1-score of no-feature-extraction is {no_feature_f1*100:.2f}%')\n",
        "print(f'f1-score of Bag-of-Words is {bow_f1*100:.2f}%')\n",
        "print(f'f1-score of No-Stop-Words is {stop_f1*100:.2f}%')\n",
        "print(f'f1-score of Part-of-Speech is {pos_f1*100:.2f}%')"
      ],
      "metadata": {
        "colab": {
          "base_uri": "https://localhost:8080/"
        },
        "id": "dzHtqNL2vdBn",
        "outputId": "4461a202-a1c4-4164-aba2-a514616cafc5"
      },
      "execution_count": null,
      "outputs": [
        {
          "output_type": "stream",
          "name": "stdout",
          "text": [
            "f1-score of no-feature-extraction is 69.08%\n",
            "f1-score of Bag-of-Words is 68.99%\n",
            "f1-score of No-Stop-Words is 72.62%\n",
            "f1-score of Part-of-Speech is 66.40%\n"
          ]
        }
      ]
    },
    {
      "cell_type": "markdown",
      "source": [
        "Thus, I concluded that No-Stop-Words did the best at classifying movie reviews in sentiment analysis. \n",
        "\n",
        "N-grams again did not do well overall, and it is not a good method to use in sentiment analysis."
      ],
      "metadata": {
        "id": "mC5bsGcQy90X"
      }
    }
  ],
  "metadata": {
    "colab": {
      "collapsed_sections": [
        "WbkJ1e5wNHbq",
        "T_kN5NgMNL4T",
        "p7n2SLv-OGgo"
      ],
      "name": "Assignment 2.ipynb",
      "provenance": [],
      "authorship_tag": "ABX9TyOh6BZOJZJNEUcQu74Vb60Y",
      "include_colab_link": true
    },
    "kernelspec": {
      "display_name": "Python 3",
      "name": "python3"
    },
    "language_info": {
      "name": "python"
    },
    "widgets": {
      "application/vnd.jupyter.widget-state+json": {
        "bcd41c48960d413d921004c40503c482": {
          "model_module": "@jupyter-widgets/controls",
          "model_name": "HBoxModel",
          "model_module_version": "1.5.0",
          "state": {
            "_view_name": "HBoxView",
            "_dom_classes": [],
            "_model_name": "HBoxModel",
            "_view_module": "@jupyter-widgets/controls",
            "_model_module_version": "1.5.0",
            "_view_count": null,
            "_view_module_version": "1.5.0",
            "box_style": "",
            "layout": "IPY_MODEL_21dd9e29240942f9bf38eb36987c380d",
            "_model_module": "@jupyter-widgets/controls",
            "children": [
              "IPY_MODEL_b366f531e756435f9d49a2a8823b4098",
              "IPY_MODEL_85b485b09fcc4da789aacf00e12e9e69",
              "IPY_MODEL_355a20523a604b7d8114d0fe01ad03ba"
            ]
          }
        },
        "21dd9e29240942f9bf38eb36987c380d": {
          "model_module": "@jupyter-widgets/base",
          "model_name": "LayoutModel",
          "model_module_version": "1.2.0",
          "state": {
            "_view_name": "LayoutView",
            "grid_template_rows": null,
            "right": null,
            "justify_content": null,
            "_view_module": "@jupyter-widgets/base",
            "overflow": null,
            "_model_module_version": "1.2.0",
            "_view_count": null,
            "flex_flow": null,
            "width": null,
            "min_width": null,
            "border": null,
            "align_items": null,
            "bottom": null,
            "_model_module": "@jupyter-widgets/base",
            "top": null,
            "grid_column": null,
            "overflow_y": null,
            "overflow_x": null,
            "grid_auto_flow": null,
            "grid_area": null,
            "grid_template_columns": null,
            "flex": null,
            "_model_name": "LayoutModel",
            "justify_items": null,
            "grid_row": null,
            "max_height": null,
            "align_content": null,
            "visibility": null,
            "align_self": null,
            "height": null,
            "min_height": null,
            "padding": null,
            "grid_auto_rows": null,
            "grid_gap": null,
            "max_width": null,
            "order": null,
            "_view_module_version": "1.2.0",
            "grid_template_areas": null,
            "object_position": null,
            "object_fit": null,
            "grid_auto_columns": null,
            "margin": null,
            "display": null,
            "left": null
          }
        },
        "b366f531e756435f9d49a2a8823b4098": {
          "model_module": "@jupyter-widgets/controls",
          "model_name": "HTMLModel",
          "model_module_version": "1.5.0",
          "state": {
            "_view_name": "HTMLView",
            "style": "IPY_MODEL_36b4486ad1564952a089a37e9b79fe9c",
            "_dom_classes": [],
            "description": "",
            "_model_name": "HTMLModel",
            "placeholder": "​",
            "_view_module": "@jupyter-widgets/controls",
            "_model_module_version": "1.5.0",
            "value": "100%",
            "_view_count": null,
            "_view_module_version": "1.5.0",
            "description_tooltip": null,
            "_model_module": "@jupyter-widgets/controls",
            "layout": "IPY_MODEL_3159caccd1714034a8f44543f163fe94"
          }
        },
        "85b485b09fcc4da789aacf00e12e9e69": {
          "model_module": "@jupyter-widgets/controls",
          "model_name": "FloatProgressModel",
          "model_module_version": "1.5.0",
          "state": {
            "_view_name": "ProgressView",
            "style": "IPY_MODEL_071871532c814af0a63c78ba94f1ecbf",
            "_dom_classes": [],
            "description": "",
            "_model_name": "FloatProgressModel",
            "bar_style": "success",
            "max": 3,
            "_view_module": "@jupyter-widgets/controls",
            "_model_module_version": "1.5.0",
            "value": 3,
            "_view_count": null,
            "_view_module_version": "1.5.0",
            "orientation": "horizontal",
            "min": 0,
            "description_tooltip": null,
            "_model_module": "@jupyter-widgets/controls",
            "layout": "IPY_MODEL_6ac26b38b41c45c993b13f24d243b9db"
          }
        },
        "355a20523a604b7d8114d0fe01ad03ba": {
          "model_module": "@jupyter-widgets/controls",
          "model_name": "HTMLModel",
          "model_module_version": "1.5.0",
          "state": {
            "_view_name": "HTMLView",
            "style": "IPY_MODEL_498863a2398d47c394a8b9be83933c81",
            "_dom_classes": [],
            "description": "",
            "_model_name": "HTMLModel",
            "placeholder": "​",
            "_view_module": "@jupyter-widgets/controls",
            "_model_module_version": "1.5.0",
            "value": " 3/3 [00:00&lt;00:00,  9.37it/s]",
            "_view_count": null,
            "_view_module_version": "1.5.0",
            "description_tooltip": null,
            "_model_module": "@jupyter-widgets/controls",
            "layout": "IPY_MODEL_f9c9417970a7492a87fc980ecc01ee17"
          }
        },
        "36b4486ad1564952a089a37e9b79fe9c": {
          "model_module": "@jupyter-widgets/controls",
          "model_name": "DescriptionStyleModel",
          "model_module_version": "1.5.0",
          "state": {
            "_view_name": "StyleView",
            "_model_name": "DescriptionStyleModel",
            "description_width": "",
            "_view_module": "@jupyter-widgets/base",
            "_model_module_version": "1.5.0",
            "_view_count": null,
            "_view_module_version": "1.2.0",
            "_model_module": "@jupyter-widgets/controls"
          }
        },
        "3159caccd1714034a8f44543f163fe94": {
          "model_module": "@jupyter-widgets/base",
          "model_name": "LayoutModel",
          "model_module_version": "1.2.0",
          "state": {
            "_view_name": "LayoutView",
            "grid_template_rows": null,
            "right": null,
            "justify_content": null,
            "_view_module": "@jupyter-widgets/base",
            "overflow": null,
            "_model_module_version": "1.2.0",
            "_view_count": null,
            "flex_flow": null,
            "width": null,
            "min_width": null,
            "border": null,
            "align_items": null,
            "bottom": null,
            "_model_module": "@jupyter-widgets/base",
            "top": null,
            "grid_column": null,
            "overflow_y": null,
            "overflow_x": null,
            "grid_auto_flow": null,
            "grid_area": null,
            "grid_template_columns": null,
            "flex": null,
            "_model_name": "LayoutModel",
            "justify_items": null,
            "grid_row": null,
            "max_height": null,
            "align_content": null,
            "visibility": null,
            "align_self": null,
            "height": null,
            "min_height": null,
            "padding": null,
            "grid_auto_rows": null,
            "grid_gap": null,
            "max_width": null,
            "order": null,
            "_view_module_version": "1.2.0",
            "grid_template_areas": null,
            "object_position": null,
            "object_fit": null,
            "grid_auto_columns": null,
            "margin": null,
            "display": null,
            "left": null
          }
        },
        "071871532c814af0a63c78ba94f1ecbf": {
          "model_module": "@jupyter-widgets/controls",
          "model_name": "ProgressStyleModel",
          "model_module_version": "1.5.0",
          "state": {
            "_view_name": "StyleView",
            "_model_name": "ProgressStyleModel",
            "description_width": "",
            "_view_module": "@jupyter-widgets/base",
            "_model_module_version": "1.5.0",
            "_view_count": null,
            "_view_module_version": "1.2.0",
            "bar_color": null,
            "_model_module": "@jupyter-widgets/controls"
          }
        },
        "6ac26b38b41c45c993b13f24d243b9db": {
          "model_module": "@jupyter-widgets/base",
          "model_name": "LayoutModel",
          "model_module_version": "1.2.0",
          "state": {
            "_view_name": "LayoutView",
            "grid_template_rows": null,
            "right": null,
            "justify_content": null,
            "_view_module": "@jupyter-widgets/base",
            "overflow": null,
            "_model_module_version": "1.2.0",
            "_view_count": null,
            "flex_flow": null,
            "width": null,
            "min_width": null,
            "border": null,
            "align_items": null,
            "bottom": null,
            "_model_module": "@jupyter-widgets/base",
            "top": null,
            "grid_column": null,
            "overflow_y": null,
            "overflow_x": null,
            "grid_auto_flow": null,
            "grid_area": null,
            "grid_template_columns": null,
            "flex": null,
            "_model_name": "LayoutModel",
            "justify_items": null,
            "grid_row": null,
            "max_height": null,
            "align_content": null,
            "visibility": null,
            "align_self": null,
            "height": null,
            "min_height": null,
            "padding": null,
            "grid_auto_rows": null,
            "grid_gap": null,
            "max_width": null,
            "order": null,
            "_view_module_version": "1.2.0",
            "grid_template_areas": null,
            "object_position": null,
            "object_fit": null,
            "grid_auto_columns": null,
            "margin": null,
            "display": null,
            "left": null
          }
        },
        "498863a2398d47c394a8b9be83933c81": {
          "model_module": "@jupyter-widgets/controls",
          "model_name": "DescriptionStyleModel",
          "model_module_version": "1.5.0",
          "state": {
            "_view_name": "StyleView",
            "_model_name": "DescriptionStyleModel",
            "description_width": "",
            "_view_module": "@jupyter-widgets/base",
            "_model_module_version": "1.5.0",
            "_view_count": null,
            "_view_module_version": "1.2.0",
            "_model_module": "@jupyter-widgets/controls"
          }
        },
        "f9c9417970a7492a87fc980ecc01ee17": {
          "model_module": "@jupyter-widgets/base",
          "model_name": "LayoutModel",
          "model_module_version": "1.2.0",
          "state": {
            "_view_name": "LayoutView",
            "grid_template_rows": null,
            "right": null,
            "justify_content": null,
            "_view_module": "@jupyter-widgets/base",
            "overflow": null,
            "_model_module_version": "1.2.0",
            "_view_count": null,
            "flex_flow": null,
            "width": null,
            "min_width": null,
            "border": null,
            "align_items": null,
            "bottom": null,
            "_model_module": "@jupyter-widgets/base",
            "top": null,
            "grid_column": null,
            "overflow_y": null,
            "overflow_x": null,
            "grid_auto_flow": null,
            "grid_area": null,
            "grid_template_columns": null,
            "flex": null,
            "_model_name": "LayoutModel",
            "justify_items": null,
            "grid_row": null,
            "max_height": null,
            "align_content": null,
            "visibility": null,
            "align_self": null,
            "height": null,
            "min_height": null,
            "padding": null,
            "grid_auto_rows": null,
            "grid_gap": null,
            "max_width": null,
            "order": null,
            "_view_module_version": "1.2.0",
            "grid_template_areas": null,
            "object_position": null,
            "object_fit": null,
            "grid_auto_columns": null,
            "margin": null,
            "display": null,
            "left": null
          }
        },
        "5b5224188e1846f38650b12736147629": {
          "model_module": "@jupyter-widgets/controls",
          "model_name": "HBoxModel",
          "model_module_version": "1.5.0",
          "state": {
            "_view_name": "HBoxView",
            "_dom_classes": [],
            "_model_name": "HBoxModel",
            "_view_module": "@jupyter-widgets/controls",
            "_model_module_version": "1.5.0",
            "_view_count": null,
            "_view_module_version": "1.5.0",
            "box_style": "",
            "layout": "IPY_MODEL_71c864507f7d4c4e9703608dd8e59d0d",
            "_model_module": "@jupyter-widgets/controls",
            "children": [
              "IPY_MODEL_8f16369df0d84bcd9e0d8e3fd3b2765b",
              "IPY_MODEL_76f2b18eebae4c0fb75f89df7a9368cf",
              "IPY_MODEL_ea462d4b7c4d4d838fdd10d2cff230de"
            ]
          }
        },
        "71c864507f7d4c4e9703608dd8e59d0d": {
          "model_module": "@jupyter-widgets/base",
          "model_name": "LayoutModel",
          "model_module_version": "1.2.0",
          "state": {
            "_view_name": "LayoutView",
            "grid_template_rows": null,
            "right": null,
            "justify_content": null,
            "_view_module": "@jupyter-widgets/base",
            "overflow": null,
            "_model_module_version": "1.2.0",
            "_view_count": null,
            "flex_flow": null,
            "width": null,
            "min_width": null,
            "border": null,
            "align_items": null,
            "bottom": null,
            "_model_module": "@jupyter-widgets/base",
            "top": null,
            "grid_column": null,
            "overflow_y": null,
            "overflow_x": null,
            "grid_auto_flow": null,
            "grid_area": null,
            "grid_template_columns": null,
            "flex": null,
            "_model_name": "LayoutModel",
            "justify_items": null,
            "grid_row": null,
            "max_height": null,
            "align_content": null,
            "visibility": null,
            "align_self": null,
            "height": null,
            "min_height": null,
            "padding": null,
            "grid_auto_rows": null,
            "grid_gap": null,
            "max_width": null,
            "order": null,
            "_view_module_version": "1.2.0",
            "grid_template_areas": null,
            "object_position": null,
            "object_fit": null,
            "grid_auto_columns": null,
            "margin": null,
            "display": null,
            "left": null
          }
        },
        "8f16369df0d84bcd9e0d8e3fd3b2765b": {
          "model_module": "@jupyter-widgets/controls",
          "model_name": "HTMLModel",
          "model_module_version": "1.5.0",
          "state": {
            "_view_name": "HTMLView",
            "style": "IPY_MODEL_b666b1ea869d4a2ba0534412ba4b816e",
            "_dom_classes": [],
            "description": "",
            "_model_name": "HTMLModel",
            "placeholder": "​",
            "_view_module": "@jupyter-widgets/controls",
            "_model_module_version": "1.5.0",
            "value": "100%",
            "_view_count": null,
            "_view_module_version": "1.5.0",
            "description_tooltip": null,
            "_model_module": "@jupyter-widgets/controls",
            "layout": "IPY_MODEL_bc33a67610ae4badbc9c46aafe533f6a"
          }
        },
        "76f2b18eebae4c0fb75f89df7a9368cf": {
          "model_module": "@jupyter-widgets/controls",
          "model_name": "FloatProgressModel",
          "model_module_version": "1.5.0",
          "state": {
            "_view_name": "ProgressView",
            "style": "IPY_MODEL_b74f672d89af4aa69ad92704cedd070d",
            "_dom_classes": [],
            "description": "",
            "_model_name": "FloatProgressModel",
            "bar_style": "success",
            "max": 1,
            "_view_module": "@jupyter-widgets/controls",
            "_model_module_version": "1.5.0",
            "value": 1,
            "_view_count": null,
            "_view_module_version": "1.5.0",
            "orientation": "horizontal",
            "min": 0,
            "description_tooltip": null,
            "_model_module": "@jupyter-widgets/controls",
            "layout": "IPY_MODEL_48f2e0a617af4256911734f17278c907"
          }
        },
        "ea462d4b7c4d4d838fdd10d2cff230de": {
          "model_module": "@jupyter-widgets/controls",
          "model_name": "HTMLModel",
          "model_module_version": "1.5.0",
          "state": {
            "_view_name": "HTMLView",
            "style": "IPY_MODEL_05babcca958443b2b7c0f992827b3aa2",
            "_dom_classes": [],
            "description": "",
            "_model_name": "HTMLModel",
            "placeholder": "​",
            "_view_module": "@jupyter-widgets/controls",
            "_model_module_version": "1.5.0",
            "value": " 1/1 [00:00&lt;00:00, 11.03it/s]",
            "_view_count": null,
            "_view_module_version": "1.5.0",
            "description_tooltip": null,
            "_model_module": "@jupyter-widgets/controls",
            "layout": "IPY_MODEL_04df7a8a75c84806a3afbe8ad64d175b"
          }
        },
        "b666b1ea869d4a2ba0534412ba4b816e": {
          "model_module": "@jupyter-widgets/controls",
          "model_name": "DescriptionStyleModel",
          "model_module_version": "1.5.0",
          "state": {
            "_view_name": "StyleView",
            "_model_name": "DescriptionStyleModel",
            "description_width": "",
            "_view_module": "@jupyter-widgets/base",
            "_model_module_version": "1.5.0",
            "_view_count": null,
            "_view_module_version": "1.2.0",
            "_model_module": "@jupyter-widgets/controls"
          }
        },
        "bc33a67610ae4badbc9c46aafe533f6a": {
          "model_module": "@jupyter-widgets/base",
          "model_name": "LayoutModel",
          "model_module_version": "1.2.0",
          "state": {
            "_view_name": "LayoutView",
            "grid_template_rows": null,
            "right": null,
            "justify_content": null,
            "_view_module": "@jupyter-widgets/base",
            "overflow": null,
            "_model_module_version": "1.2.0",
            "_view_count": null,
            "flex_flow": null,
            "width": null,
            "min_width": null,
            "border": null,
            "align_items": null,
            "bottom": null,
            "_model_module": "@jupyter-widgets/base",
            "top": null,
            "grid_column": null,
            "overflow_y": null,
            "overflow_x": null,
            "grid_auto_flow": null,
            "grid_area": null,
            "grid_template_columns": null,
            "flex": null,
            "_model_name": "LayoutModel",
            "justify_items": null,
            "grid_row": null,
            "max_height": null,
            "align_content": null,
            "visibility": null,
            "align_self": null,
            "height": null,
            "min_height": null,
            "padding": null,
            "grid_auto_rows": null,
            "grid_gap": null,
            "max_width": null,
            "order": null,
            "_view_module_version": "1.2.0",
            "grid_template_areas": null,
            "object_position": null,
            "object_fit": null,
            "grid_auto_columns": null,
            "margin": null,
            "display": null,
            "left": null
          }
        },
        "b74f672d89af4aa69ad92704cedd070d": {
          "model_module": "@jupyter-widgets/controls",
          "model_name": "ProgressStyleModel",
          "model_module_version": "1.5.0",
          "state": {
            "_view_name": "StyleView",
            "_model_name": "ProgressStyleModel",
            "description_width": "",
            "_view_module": "@jupyter-widgets/base",
            "_model_module_version": "1.5.0",
            "_view_count": null,
            "_view_module_version": "1.2.0",
            "bar_color": null,
            "_model_module": "@jupyter-widgets/controls"
          }
        },
        "48f2e0a617af4256911734f17278c907": {
          "model_module": "@jupyter-widgets/base",
          "model_name": "LayoutModel",
          "model_module_version": "1.2.0",
          "state": {
            "_view_name": "LayoutView",
            "grid_template_rows": null,
            "right": null,
            "justify_content": null,
            "_view_module": "@jupyter-widgets/base",
            "overflow": null,
            "_model_module_version": "1.2.0",
            "_view_count": null,
            "flex_flow": null,
            "width": null,
            "min_width": null,
            "border": null,
            "align_items": null,
            "bottom": null,
            "_model_module": "@jupyter-widgets/base",
            "top": null,
            "grid_column": null,
            "overflow_y": null,
            "overflow_x": null,
            "grid_auto_flow": null,
            "grid_area": null,
            "grid_template_columns": null,
            "flex": null,
            "_model_name": "LayoutModel",
            "justify_items": null,
            "grid_row": null,
            "max_height": null,
            "align_content": null,
            "visibility": null,
            "align_self": null,
            "height": null,
            "min_height": null,
            "padding": null,
            "grid_auto_rows": null,
            "grid_gap": null,
            "max_width": null,
            "order": null,
            "_view_module_version": "1.2.0",
            "grid_template_areas": null,
            "object_position": null,
            "object_fit": null,
            "grid_auto_columns": null,
            "margin": null,
            "display": null,
            "left": null
          }
        },
        "05babcca958443b2b7c0f992827b3aa2": {
          "model_module": "@jupyter-widgets/controls",
          "model_name": "DescriptionStyleModel",
          "model_module_version": "1.5.0",
          "state": {
            "_view_name": "StyleView",
            "_model_name": "DescriptionStyleModel",
            "description_width": "",
            "_view_module": "@jupyter-widgets/base",
            "_model_module_version": "1.5.0",
            "_view_count": null,
            "_view_module_version": "1.2.0",
            "_model_module": "@jupyter-widgets/controls"
          }
        },
        "04df7a8a75c84806a3afbe8ad64d175b": {
          "model_module": "@jupyter-widgets/base",
          "model_name": "LayoutModel",
          "model_module_version": "1.2.0",
          "state": {
            "_view_name": "LayoutView",
            "grid_template_rows": null,
            "right": null,
            "justify_content": null,
            "_view_module": "@jupyter-widgets/base",
            "overflow": null,
            "_model_module_version": "1.2.0",
            "_view_count": null,
            "flex_flow": null,
            "width": null,
            "min_width": null,
            "border": null,
            "align_items": null,
            "bottom": null,
            "_model_module": "@jupyter-widgets/base",
            "top": null,
            "grid_column": null,
            "overflow_y": null,
            "overflow_x": null,
            "grid_auto_flow": null,
            "grid_area": null,
            "grid_template_columns": null,
            "flex": null,
            "_model_name": "LayoutModel",
            "justify_items": null,
            "grid_row": null,
            "max_height": null,
            "align_content": null,
            "visibility": null,
            "align_self": null,
            "height": null,
            "min_height": null,
            "padding": null,
            "grid_auto_rows": null,
            "grid_gap": null,
            "max_width": null,
            "order": null,
            "_view_module_version": "1.2.0",
            "grid_template_areas": null,
            "object_position": null,
            "object_fit": null,
            "grid_auto_columns": null,
            "margin": null,
            "display": null,
            "left": null
          }
        }
      }
    }
  },
  "nbformat": 4,
  "nbformat_minor": 0
}